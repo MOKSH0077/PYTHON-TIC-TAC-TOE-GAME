{
 "cells": [
  {
   "cell_type": "code",
   "execution_count": 59,
   "id": "ac9d3eef-d6eb-467a-b68a-6a4e7f62f902",
   "metadata": {},
   "outputs": [],
   "source": [
    "#MILESTONE PROJECT 1 ( TIC TAC TOE GAME )"
   ]
  },
  {
   "cell_type": "code",
   "execution_count": 116,
   "id": "f061b799-0ed8-41de-95dd-5cb82f50aba2",
   "metadata": {},
   "outputs": [],
   "source": [
    "from IPython.display import clear_output\n",
    "def display_board(board):\n",
    "    clear_output()\n",
    "    print(board[1]+'|'+board[2]+'|'+board[3])\n",
    "    print(board[4]+'|'+board[5]+'|'+board[6])\n",
    "    print(board[7]+'|'+board[8]+'|'+board[9])\n",
    "    \n",
    "    "
   ]
  },
  {
   "cell_type": "code",
   "execution_count": 117,
   "id": "f96ac025-5ce6-4b1b-9d5e-661352126411",
   "metadata": {},
   "outputs": [],
   "source": [
    "def namegrab1():\n",
    "    return input('Who is PLAYER 1 ?')"
   ]
  },
  {
   "cell_type": "code",
   "execution_count": 118,
   "id": "a287662d-4d17-4234-b65f-ab281a58b9c0",
   "metadata": {},
   "outputs": [],
   "source": [
    "def namegrab2():\n",
    "    return input('Who is PLAYER 2 ?')"
   ]
  },
  {
   "cell_type": "code",
   "execution_count": 119,
   "id": "59cc1ce2-3fcb-4a36-9071-741194ba6643",
   "metadata": {},
   "outputs": [],
   "source": [
    "def player_input():\n",
    "    inp=' '\n",
    "    while inp!='X' and inp!='O':\n",
    "        inp = input('PLAYER 1 ,CHOOSE X OR O ').upper()\n",
    "    if inp == 'X':\n",
    "        return ('X','O')\n",
    "    else:\n",
    "        return ('O','X')      \n",
    "        "
   ]
  },
  {
   "cell_type": "code",
   "execution_count": 120,
   "id": "89dc389c-a752-4115-ba72-285c1279dcf9",
   "metadata": {},
   "outputs": [
    {
     "name": "stdin",
     "output_type": "stream",
     "text": [
      "PLAYER 1 ,CHOOSE X OR O  X\n"
     ]
    }
   ],
   "source": [
    "player1mark,player2mark=player_input()"
   ]
  },
  {
   "cell_type": "code",
   "execution_count": 121,
   "id": "6976dbb7-e02d-4df9-b349-3e44b0500250",
   "metadata": {},
   "outputs": [],
   "source": [
    "def place_grab(board,inp,position):\n",
    "    board[position] = inp"
   ]
  },
  {
   "cell_type": "code",
   "execution_count": 122,
   "id": "162b1df5-f106-4b42-ba9b-d407872a8d9f",
   "metadata": {},
   "outputs": [],
   "source": [
    "def checkforwin(board, inp):\n",
    "    return ((board[7]==inp and board[8]==inp and board[9]==inp)or\n",
    "    \n",
    "    (board[7]==inp and board[4]==inp and board[1]==inp)or\n",
    "    \n",
    "    (board[1]==inp and board[2]==inp and board[3]==inp)or\n",
    "    \n",
    "    (board[3]==inp and board[6]==inp and board[9]==inp)or\n",
    "    \n",
    "    (board[8]==inp and board[5]==inp and board[2]==inp)or\n",
    "    \n",
    "    (board[4]==inp and board[5]==inp and board[6]==inp)or\n",
    "    \n",
    "    (board[1]==inp and board[5]==inp and board[9]==inp)or\n",
    "    \n",
    "    (board[7]==inp and board[5]==inp and board[3]==inp))\n",
    "            "
   ]
  },
  {
   "cell_type": "code",
   "execution_count": 123,
   "id": "98a4ead8-0b08-4252-8309-acaa44f8a222",
   "metadata": {},
   "outputs": [],
   "source": [
    "import random \n",
    "def choose_first():\n",
    "    if random.randint(0,1)==0:\n",
    "        return 'PLAYER 1'\n",
    "    else:\n",
    "        return 'PLAYER 2'"
   ]
  },
  {
   "cell_type": "code",
   "execution_count": 124,
   "id": "4e653437-4491-4088-925e-63fabdd82eea",
   "metadata": {},
   "outputs": [],
   "source": [
    "def emptyspace(board,position):\n",
    "    return board[position] ==  ' '"
   ]
  },
  {
   "cell_type": "code",
   "execution_count": 125,
   "id": "b44441d8-2092-4127-84e8-bf838fd68a16",
   "metadata": {},
   "outputs": [],
   "source": [
    "def fullchecking(board):\n",
    "    for i in range(1,10):\n",
    "        if emptyspace(board,i):\n",
    "            return False\n",
    "        else:\n",
    "            pass\n",
    "    return True"
   ]
  },
  {
   "cell_type": "code",
   "execution_count": 126,
   "id": "896d6904-b179-48b0-8474-cb18e2560d39",
   "metadata": {},
   "outputs": [],
   "source": [
    "def player_choice(board):\n",
    "    position=0\n",
    "    while position not in [1,2,3,4,5,6,7,8,9] or not emptyspace(board, position):\n",
    "        position=int(input('CHOOSE A POSITION FROM (1-9)'))\n",
    "    return position"
   ]
  },
  {
   "cell_type": "code",
   "execution_count": 127,
   "id": "a0c1b65f-6fae-471d-8dce-e9fbd0a73cd7",
   "metadata": {},
   "outputs": [],
   "source": [
    "def replay():\n",
    "    return input('DO YOU WANT TO PLAY Y OR N').lower().startswith('y')"
   ]
  },
  {
   "cell_type": "code",
   "execution_count": 131,
   "id": "f05b2639-e4f8-4066-9808-d8770e55e48c",
   "metadata": {},
   "outputs": [
    {
     "name": "stdout",
     "output_type": "stream",
     "text": [
      "O|X|O\n",
      "X|O|X\n",
      "O| | \n",
      "PLAYER 2 has won!\n"
     ]
    },
    {
     "name": "stdin",
     "output_type": "stream",
     "text": [
      "DO YOU WANT TO PLAY Y OR N N\n"
     ]
    }
   ],
   "source": [
    "print('Welcome to Tic Tac Toe!')\n",
    "\n",
    "while True:\n",
    "    # Reset the board\n",
    "    theBoard = [' '] * 10\n",
    "    namegrab1()\n",
    "    namegrab2()\n",
    "\n",
    "    player1mark, player2mark = player_input()\n",
    "    turn = choose_first()\n",
    "    print(turn + ' will go first.')\n",
    "    \n",
    "    play_game = input('Are you ready to play? Enter Yes or No.')\n",
    "    \n",
    "    if play_game.lower()[0] == 'y':\n",
    "        game_on = True\n",
    "    else:\n",
    "        game_on = False\n",
    "\n",
    "    while game_on:\n",
    "        if turn == 'PLAYER 1':\n",
    "            # Player1's turn.\n",
    "            \n",
    "            display_board(theBoard)\n",
    "            position = player_choice(theBoard)\n",
    "            place_grab(theBoard, player1mark, position)\n",
    "\n",
    "            if checkforwin(theBoard, player1mark):\n",
    "                display_board(theBoard)\n",
    "                print('Congratulations! PLAYER 1 have won the game!')\n",
    "                game_on = False\n",
    "            else:\n",
    "                if fullchecking(theBoard):\n",
    "                    display_board(theBoard)\n",
    "                    print('The game is a draw!')\n",
    "                    break\n",
    "                else:\n",
    "                    turn = 'PLAYER 2'\n",
    "\n",
    "        else:\n",
    "            # Player2's turn.\n",
    "            \n",
    "            display_board(theBoard)\n",
    "            position = player_choice(theBoard)\n",
    "            place_grab(theBoard, player2mark, position)\n",
    "\n",
    "            if checkforwin(theBoard, player2mark):\n",
    "                display_board(theBoard)\n",
    "                print('PLAYER 2 has won!')\n",
    "                game_on = False\n",
    "            else:\n",
    "                if fullchecking(theBoard):\n",
    "                    display_board(theBoard)\n",
    "                    print('The game is a draw!')\n",
    "                    break\n",
    "                else:\n",
    "                    turn = 'PLAYER 1'\n",
    "\n",
    "    if not replay():\n",
    "        break"
   ]
  },
  {
   "cell_type": "code",
   "execution_count": null,
   "id": "d1f10378-c114-4719-ae37-7140f821672d",
   "metadata": {},
   "outputs": [],
   "source": []
  }
 ],
 "metadata": {
  "kernelspec": {
   "display_name": "Python 3 (ipykernel)",
   "language": "python",
   "name": "python3"
  },
  "language_info": {
   "codemirror_mode": {
    "name": "ipython",
    "version": 3
   },
   "file_extension": ".py",
   "mimetype": "text/x-python",
   "name": "python",
   "nbconvert_exporter": "python",
   "pygments_lexer": "ipython3",
   "version": "3.11.7"
  }
 },
 "nbformat": 4,
 "nbformat_minor": 5
}
